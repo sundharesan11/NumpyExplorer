{
 "cells": [
  {
   "cell_type": "markdown",
   "id": "e8025152",
   "metadata": {},
   "source": [
    "# NumPy - Numerical Python"
   ]
  },
  {
   "cell_type": "markdown",
   "id": "59fc18d8",
   "metadata": {},
   "source": [
    "NumPy library is used for working with arrays in python.\n",
    "\n",
    "NumPy arrays are faster than python lists as they are homogeneous data-types stored in contiguous memory locaitons. "
   ]
  },
  {
   "cell_type": "markdown",
   "id": "e93a23b3",
   "metadata": {},
   "source": [
    "##### Importing the library:"
   ]
  },
  {
   "cell_type": "code",
   "execution_count": 1,
   "id": "0c96c99e",
   "metadata": {},
   "outputs": [
    {
     "name": "stdout",
     "output_type": "stream",
     "text": [
      "1.21.5\n"
     ]
    }
   ],
   "source": [
    "import numpy as np\n",
    "print(np.__version__)"
   ]
  },
  {
   "cell_type": "markdown",
   "id": "901ab70f",
   "metadata": {},
   "source": [
    "##### Creating a numpy array"
   ]
  },
  {
   "cell_type": "code",
   "execution_count": 2,
   "id": "43d966d7",
   "metadata": {},
   "outputs": [
    {
     "name": "stdout",
     "output_type": "stream",
     "text": [
      "[1 2 3 4 5]\n",
      "<class 'numpy.ndarray'>\n"
     ]
    }
   ],
   "source": [
    "a = np.array([1,2,3,4,5])\n",
    "print(a)\n",
    "print(type(a))"
   ]
  },
  {
   "cell_type": "markdown",
   "id": "4eafaa30",
   "metadata": {},
   "source": [
    "##### Checking number of dimensions"
   ]
  },
  {
   "cell_type": "code",
   "execution_count": 3,
   "id": "ca6db56f",
   "metadata": {},
   "outputs": [
    {
     "name": "stdout",
     "output_type": "stream",
     "text": [
      "0\n",
      "1\n",
      "2\n"
     ]
    }
   ],
   "source": [
    "a = np.array(42)\n",
    "b = np.array([1, 2, 3, 4, 5])\n",
    "c = np.array([[1, 2, 3], [4, 5, 6]])\n",
    "\n",
    "print(a.ndim)\n",
    "print(b.ndim)\n",
    "print(c.ndim)"
   ]
  },
  {
   "cell_type": "markdown",
   "id": "efb9cd7d",
   "metadata": {},
   "source": [
    "##### NumPy indexing or accessing"
   ]
  },
  {
   "cell_type": "code",
   "execution_count": 4,
   "id": "e011c63e",
   "metadata": {},
   "outputs": [
    {
     "name": "stdout",
     "output_type": "stream",
     "text": [
      "2\n"
     ]
    }
   ],
   "source": [
    "print(b[1])"
   ]
  },
  {
   "cell_type": "code",
   "execution_count": 5,
   "id": "3c88dce8",
   "metadata": {},
   "outputs": [
    {
     "name": "stdout",
     "output_type": "stream",
     "text": [
      "4\n"
     ]
    }
   ],
   "source": [
    "print(c[1, 0])"
   ]
  },
  {
   "cell_type": "code",
   "execution_count": 6,
   "id": "be1cddfe",
   "metadata": {},
   "outputs": [
    {
     "name": "stdout",
     "output_type": "stream",
     "text": [
      "3\n"
     ]
    }
   ],
   "source": [
    "print(c[0, -1])"
   ]
  },
  {
   "cell_type": "markdown",
   "id": "a159814b",
   "metadata": {},
   "source": [
    "##### slicing"
   ]
  },
  {
   "cell_type": "code",
   "execution_count": 7,
   "id": "2ea836fc",
   "metadata": {},
   "outputs": [
    {
     "name": "stdout",
     "output_type": "stream",
     "text": [
      "[2 3]\n"
     ]
    }
   ],
   "source": [
    "print(b[1:3])"
   ]
  },
  {
   "cell_type": "code",
   "execution_count": 8,
   "id": "b841fda7",
   "metadata": {},
   "outputs": [
    {
     "name": "stdout",
     "output_type": "stream",
     "text": [
      "[1 3]\n"
     ]
    }
   ],
   "source": [
    "print(b[0:4:2])"
   ]
  },
  {
   "cell_type": "markdown",
   "id": "dc440de4",
   "metadata": {},
   "source": [
    "##### Data-types"
   ]
  },
  {
   "cell_type": "code",
   "execution_count": 9,
   "id": "c6b42edb",
   "metadata": {},
   "outputs": [],
   "source": [
    "d = np.array([1,2,3,4,5,6,7,8], dtype = 'S')"
   ]
  },
  {
   "cell_type": "code",
   "execution_count": 10,
   "id": "de19db9f",
   "metadata": {},
   "outputs": [
    {
     "data": {
      "text/plain": [
       "dtype('S1')"
      ]
     },
     "execution_count": 10,
     "metadata": {},
     "output_type": "execute_result"
    }
   ],
   "source": [
    "d.dtype"
   ]
  },
  {
   "cell_type": "code",
   "execution_count": 11,
   "id": "6cde2713",
   "metadata": {},
   "outputs": [],
   "source": [
    "e = d.astype('i')"
   ]
  },
  {
   "cell_type": "code",
   "execution_count": 12,
   "id": "1a9864fc",
   "metadata": {},
   "outputs": [
    {
     "data": {
      "text/plain": [
       "dtype('int32')"
      ]
     },
     "execution_count": 12,
     "metadata": {},
     "output_type": "execute_result"
    }
   ],
   "source": [
    "e.dtype"
   ]
  },
  {
   "cell_type": "markdown",
   "id": "c660ceb3",
   "metadata": {},
   "source": [
    "##### Copy"
   ]
  },
  {
   "cell_type": "code",
   "execution_count": 13,
   "id": "a8e6b407",
   "metadata": {},
   "outputs": [
    {
     "data": {
      "text/plain": [
       "array([0, 1, 2, 3, 4, 5, 6, 7, 8, 9])"
      ]
     },
     "execution_count": 13,
     "metadata": {},
     "output_type": "execute_result"
    }
   ],
   "source": [
    "a = np.array([0,1,2,3,4,5,6,7,8,9])\n",
    "b = a.copy()\n",
    "b"
   ]
  },
  {
   "cell_type": "markdown",
   "id": "f2274488",
   "metadata": {},
   "source": [
    "##### View"
   ]
  },
  {
   "cell_type": "code",
   "execution_count": 14,
   "id": "6874cab3",
   "metadata": {},
   "outputs": [
    {
     "name": "stdout",
     "output_type": "stream",
     "text": [
      "[11  1  2  3  4  5  6  7  8  9]\n"
     ]
    }
   ],
   "source": [
    "c = a.view()\n",
    "a[0]=11\n",
    "print(c)\n"
   ]
  },
  {
   "cell_type": "code",
   "execution_count": 15,
   "id": "d3e1dc06",
   "metadata": {},
   "outputs": [
    {
     "name": "stdout",
     "output_type": "stream",
     "text": [
      "None\n",
      "[11  1  2  3  4  5  6  7  8  9]\n"
     ]
    }
   ],
   "source": [
    "print(b.base)\n",
    "print(c.base)"
   ]
  },
  {
   "cell_type": "markdown",
   "id": "f40f264a",
   "metadata": {},
   "source": [
    "##### Array shape"
   ]
  },
  {
   "cell_type": "code",
   "execution_count": 16,
   "id": "261d4227",
   "metadata": {},
   "outputs": [
    {
     "name": "stdout",
     "output_type": "stream",
     "text": [
      "(2, 4)\n"
     ]
    }
   ],
   "source": [
    "a = np.array([[1, 2, 3, 4], [5, 6, 7, 8]])\n",
    "\n",
    "print(a.shape)"
   ]
  },
  {
   "cell_type": "code",
   "execution_count": 17,
   "id": "215fe466",
   "metadata": {},
   "outputs": [
    {
     "name": "stdout",
     "output_type": "stream",
     "text": [
      "[[[[[1 2 3 4]]]]]\n",
      "shape of array : (1, 1, 1, 1, 4)\n"
     ]
    }
   ],
   "source": [
    "a = np.array([1, 2, 3, 4], ndmin=5)\n",
    "\n",
    "print(a)\n",
    "print('shape of array :', a.shape)"
   ]
  },
  {
   "cell_type": "markdown",
   "id": "febed7e4",
   "metadata": {},
   "source": [
    "##### Reshaping array"
   ]
  },
  {
   "cell_type": "code",
   "execution_count": 18,
   "id": "8bac43f4",
   "metadata": {},
   "outputs": [
    {
     "name": "stdout",
     "output_type": "stream",
     "text": [
      "[[ 1  2  3]\n",
      " [ 4  5  6]\n",
      " [ 7  8  9]\n",
      " [10 11 12]]\n"
     ]
    }
   ],
   "source": [
    "a = np.array([1, 2, 3, 4, 5, 6, 7, 8, 9, 10, 11, 12])\n",
    "\n",
    "b = a.reshape(4, 3)\n",
    "\n",
    "print(b)"
   ]
  },
  {
   "cell_type": "code",
   "execution_count": 19,
   "id": "e9f556fa",
   "metadata": {},
   "outputs": [
    {
     "name": "stdout",
     "output_type": "stream",
     "text": [
      "[[[ 1  2]\n",
      "  [ 3  4]\n",
      "  [ 5  6]]\n",
      "\n",
      " [[ 7  8]\n",
      "  [ 9 10]\n",
      "  [11 12]]]\n"
     ]
    }
   ],
   "source": [
    "a = np.array([1, 2, 3, 4, 5, 6, 7, 8, 9, 10, 11, 12])\n",
    "b = a.reshape(2,3,2)\n",
    "\n",
    "print(b)"
   ]
  },
  {
   "cell_type": "markdown",
   "id": "e683b2d1",
   "metadata": {},
   "source": [
    "##### Flattening the arrays"
   ]
  },
  {
   "cell_type": "code",
   "execution_count": 20,
   "id": "a1c272fd",
   "metadata": {},
   "outputs": [
    {
     "name": "stdout",
     "output_type": "stream",
     "text": [
      "[1 2 3 4 5 6 7 8]\n"
     ]
    }
   ],
   "source": [
    "a = np.array([[1, 2, 3, 4], [5, 6, 7, 8]])\n",
    "b = a.reshape(-1)\n",
    "print(b)"
   ]
  },
  {
   "cell_type": "code",
   "execution_count": 21,
   "id": "a92609b7",
   "metadata": {},
   "outputs": [
    {
     "name": "stdout",
     "output_type": "stream",
     "text": [
      "[1 2 3 4 5 6 7 8]\n"
     ]
    }
   ],
   "source": [
    "a = np.array([[1, 2, 3, 4], [5, 6, 7, 8]])\n",
    "b = a.ravel()\n",
    "print(b)"
   ]
  },
  {
   "cell_type": "markdown",
   "id": "834c5cd6",
   "metadata": {},
   "source": [
    "reshape(-1) === ravel() in numpy"
   ]
  },
  {
   "cell_type": "markdown",
   "id": "8adecc9f",
   "metadata": {},
   "source": [
    "##### Rotating and flipping an array"
   ]
  },
  {
   "cell_type": "code",
   "execution_count": 22,
   "id": "69026014",
   "metadata": {},
   "outputs": [
    {
     "name": "stdout",
     "output_type": "stream",
     "text": [
      "[[ 0  1  2  3]\n",
      " [ 4  5  6  7]\n",
      " [ 8  9 10 11]]\n",
      "[[ 3  7 11]\n",
      " [ 2  6 10]\n",
      " [ 1  5  9]\n",
      " [ 0  4  8]]\n",
      "[[11 10  9  8]\n",
      " [ 7  6  5  4]\n",
      " [ 3  2  1  0]]\n"
     ]
    }
   ],
   "source": [
    "a = np.arange(12).reshape(3,4)\n",
    "print(a)\n",
    "b = np.rot90(a)\n",
    "c = np.rot90(a, 2)\n",
    "print(b)\n",
    "print(c)"
   ]
  },
  {
   "cell_type": "code",
   "execution_count": 23,
   "id": "9e8ec99c",
   "metadata": {},
   "outputs": [
    {
     "name": "stdout",
     "output_type": "stream",
     "text": [
      "[[ 0  1  2  3]\n",
      " [ 4  5  6  7]\n",
      " [ 8  9 10 11]]\n",
      "[[ 8  9 10 11]\n",
      " [ 4  5  6  7]\n",
      " [ 0  1  2  3]]\n"
     ]
    }
   ],
   "source": [
    "a = np.arange(12).reshape(3,4)\n",
    "print(a)\n",
    "b = np.flip(a, 0)\n",
    "print(b)"
   ]
  },
  {
   "cell_type": "markdown",
   "id": "37f3561d",
   "metadata": {},
   "source": [
    "##### Numpy array iteration"
   ]
  },
  {
   "cell_type": "code",
   "execution_count": 24,
   "id": "47e4d9dc",
   "metadata": {},
   "outputs": [
    {
     "name": "stdout",
     "output_type": "stream",
     "text": [
      "11\n",
      "12\n",
      "13\n",
      "14\n",
      "15\n"
     ]
    }
   ],
   "source": [
    "a = np.array([11,12,13,14,15])\n",
    "for x in a:\n",
    "    print(x)"
   ]
  },
  {
   "cell_type": "code",
   "execution_count": 25,
   "id": "18bcf545",
   "metadata": {},
   "outputs": [
    {
     "name": "stdout",
     "output_type": "stream",
     "text": [
      "[0 1 2]\n",
      "[3 4 5]\n",
      "[6 7 8]\n",
      "[ 9 10 11]\n"
     ]
    }
   ],
   "source": [
    "a = np.arange(12).reshape(4,3)\n",
    "for x in a:\n",
    "    print(x)"
   ]
  },
  {
   "cell_type": "code",
   "execution_count": 26,
   "id": "6f859f69",
   "metadata": {},
   "outputs": [
    {
     "name": "stdout",
     "output_type": "stream",
     "text": [
      "0\n",
      "1\n",
      "2\n",
      "3\n",
      "4\n",
      "5\n",
      "6\n",
      "7\n",
      "8\n",
      "9\n",
      "10\n",
      "11\n"
     ]
    }
   ],
   "source": [
    "a = np.arange(12).reshape(4,3)\n",
    "for x in a:\n",
    "    for y in x:\n",
    "        print(y)"
   ]
  },
  {
   "cell_type": "code",
   "execution_count": 27,
   "id": "73cd60b6",
   "metadata": {},
   "outputs": [
    {
     "name": "stdout",
     "output_type": "stream",
     "text": [
      "0\n",
      "1\n",
      "2\n",
      "3\n",
      "4\n",
      "5\n",
      "6\n",
      "7\n",
      "8\n",
      "9\n",
      "10\n",
      "11\n"
     ]
    }
   ],
   "source": [
    "a = np.arange(12).reshape(4,3)\n",
    "for x in np.nditer(a):\n",
    "    print(x)"
   ]
  },
  {
   "cell_type": "markdown",
   "id": "87458aeb",
   "metadata": {},
   "source": [
    "iterating in steps"
   ]
  },
  {
   "cell_type": "code",
   "execution_count": 28,
   "id": "05945d8f",
   "metadata": {},
   "outputs": [
    {
     "name": "stdout",
     "output_type": "stream",
     "text": [
      "0\n",
      "2\n",
      "3\n",
      "5\n",
      "6\n",
      "8\n",
      "9\n",
      "11\n"
     ]
    }
   ],
   "source": [
    "a = np.arange(12).reshape(4,3)\n",
    "for x in np.nditer(a[:,::2]):\n",
    "    print(x)"
   ]
  },
  {
   "cell_type": "markdown",
   "id": "a9dd753f",
   "metadata": {},
   "source": [
    "##### Joining arrays"
   ]
  },
  {
   "cell_type": "code",
   "execution_count": 29,
   "id": "6bf97e93",
   "metadata": {},
   "outputs": [
    {
     "name": "stdout",
     "output_type": "stream",
     "text": [
      "[ 1  2  3  4  5  6  7  8  9 10]\n"
     ]
    }
   ],
   "source": [
    "a = np.array([1,2,3,4,5])\n",
    "b = np.array([6,7,8,9,10])\n",
    "c = np.concatenate((a, b))\n",
    "print(c)"
   ]
  },
  {
   "cell_type": "code",
   "execution_count": 30,
   "id": "f81e9ec3",
   "metadata": {},
   "outputs": [
    {
     "name": "stdout",
     "output_type": "stream",
     "text": [
      "[[ 1  2  6  7]\n",
      " [ 4  5  9 10]]\n"
     ]
    }
   ],
   "source": [
    "a = np.array([[1,2],[4,5]])\n",
    "b = np.array([[6,7],[9,10]])\n",
    "c = np.concatenate((a, b), axis = 1)\n",
    "print(c)"
   ]
  },
  {
   "cell_type": "markdown",
   "id": "8dc21bd7",
   "metadata": {},
   "source": [
    "##### Joining arrays using stack function"
   ]
  },
  {
   "cell_type": "code",
   "execution_count": 31,
   "id": "58f48230",
   "metadata": {},
   "outputs": [
    {
     "name": "stdout",
     "output_type": "stream",
     "text": [
      "[[ 1  2  3  4  5]\n",
      " [ 6  7  8  9 10]]\n"
     ]
    }
   ],
   "source": [
    "a = np.array([1,2,3,4,5])\n",
    "b = np.array([6,7,8,9,10])\n",
    "c = np.stack((a,b))\n",
    "print(c)"
   ]
  },
  {
   "cell_type": "code",
   "execution_count": 32,
   "id": "9d8627a4",
   "metadata": {},
   "outputs": [
    {
     "name": "stdout",
     "output_type": "stream",
     "text": [
      "[[ 1  6]\n",
      " [ 2  7]\n",
      " [ 3  8]\n",
      " [ 4  9]\n",
      " [ 5 10]]\n"
     ]
    }
   ],
   "source": [
    "a = np.array([1,2,3,4,5])\n",
    "b = np.array([6,7,8,9,10])\n",
    "c = np.stack((a,b), axis=1)\n",
    "print(c)"
   ]
  },
  {
   "cell_type": "markdown",
   "id": "e4a83135",
   "metadata": {},
   "source": [
    "##### Splitting arrays"
   ]
  },
  {
   "cell_type": "code",
   "execution_count": 33,
   "id": "0b1816ac",
   "metadata": {},
   "outputs": [
    {
     "name": "stdout",
     "output_type": "stream",
     "text": [
      "[array([10, 11]), array([12, 13]), array([14, 15]), array([16, 17])]\n"
     ]
    }
   ],
   "source": [
    "a = np.array([10,11,12,13,14,15,16,17])\n",
    "b = np.array_split(a,4)\n",
    "print(b)"
   ]
  },
  {
   "cell_type": "code",
   "execution_count": 34,
   "id": "7e0083b2",
   "metadata": {},
   "outputs": [
    {
     "name": "stdout",
     "output_type": "stream",
     "text": [
      "[array([[ 1],\n",
      "       [ 4],\n",
      "       [ 7],\n",
      "       [10],\n",
      "       [13],\n",
      "       [16]]), array([[ 2],\n",
      "       [ 5],\n",
      "       [ 8],\n",
      "       [11],\n",
      "       [14],\n",
      "       [17]]), array([[ 3],\n",
      "       [ 6],\n",
      "       [ 9],\n",
      "       [12],\n",
      "       [15],\n",
      "       [18]])]\n"
     ]
    }
   ],
   "source": [
    "a = np.array([[1, 2, 3], [4, 5, 6], [7, 8, 9], [10, 11, 12], [13, 14, 15], [16, 17, 18]])\n",
    "\n",
    "b = np.hsplit(a, 3)\n",
    "\n",
    "print(b)"
   ]
  },
  {
   "cell_type": "markdown",
   "id": "457ccae6",
   "metadata": {},
   "source": [
    "##### Serching in an array"
   ]
  },
  {
   "cell_type": "code",
   "execution_count": 35,
   "id": "6d1b643c",
   "metadata": {},
   "outputs": [
    {
     "name": "stdout",
     "output_type": "stream",
     "text": [
      "(array([1, 4, 6], dtype=int64),)\n"
     ]
    }
   ],
   "source": [
    "a = np.array([1,2,3,4,2,3,2])\n",
    "b = np.where(a==2)\n",
    "print(b)"
   ]
  },
  {
   "cell_type": "markdown",
   "id": "63e325c9",
   "metadata": {},
   "source": [
    "finding the index of even elements"
   ]
  },
  {
   "cell_type": "code",
   "execution_count": 36,
   "id": "e6d0658f",
   "metadata": {},
   "outputs": [
    {
     "name": "stdout",
     "output_type": "stream",
     "text": [
      "(array([1, 3, 4, 6], dtype=int64),)\n"
     ]
    }
   ],
   "source": [
    "a = np.array([1,2,3,4,2,3,6])\n",
    "b = np.where(a%2==0)\n",
    "print(b)"
   ]
  },
  {
   "cell_type": "markdown",
   "id": "1b19e4bb",
   "metadata": {},
   "source": [
    "SearchSorted:\n",
    "\n",
    "        finds an index for inserting that element in the sorted array\n",
    "    "
   ]
  },
  {
   "cell_type": "code",
   "execution_count": 37,
   "id": "9eda16a0",
   "metadata": {},
   "outputs": [
    {
     "name": "stdout",
     "output_type": "stream",
     "text": [
      "1\n"
     ]
    }
   ],
   "source": [
    "a = np.array([6, 7, 8, 9])\n",
    "\n",
    "x = np.searchsorted(a, 7)\n",
    "\n",
    "print(x)"
   ]
  },
  {
   "cell_type": "code",
   "execution_count": 38,
   "id": "c8b807fd",
   "metadata": {},
   "outputs": [
    {
     "name": "stdout",
     "output_type": "stream",
     "text": [
      "2\n"
     ]
    }
   ],
   "source": [
    "a = np.array([6, 7, 8, 9])\n",
    "\n",
    "x = np.searchsorted(a, 7, side = 'right')\n",
    "\n",
    "print(x)"
   ]
  },
  {
   "cell_type": "markdown",
   "id": "a6d53c97",
   "metadata": {},
   "source": [
    "##### Sorting"
   ]
  },
  {
   "cell_type": "code",
   "execution_count": 39,
   "id": "01a7ee87",
   "metadata": {},
   "outputs": [
    {
     "name": "stdout",
     "output_type": "stream",
     "text": [
      "[0 1 2 3]\n"
     ]
    }
   ],
   "source": [
    "a = np.array([3, 2, 0, 1])\n",
    "\n",
    "print(np.sort(a))"
   ]
  },
  {
   "cell_type": "code",
   "execution_count": 40,
   "id": "1609c59a",
   "metadata": {},
   "outputs": [
    {
     "name": "stdout",
     "output_type": "stream",
     "text": [
      "['apple' 'banana' 'cherry']\n"
     ]
    }
   ],
   "source": [
    "a = np.array(['banana', 'cherry', 'apple'])\n",
    "\n",
    "print(np.sort(a))"
   ]
  },
  {
   "cell_type": "markdown",
   "id": "fcd4256d",
   "metadata": {},
   "source": [
    "#### Numpy working with the image"
   ]
  },
  {
   "cell_type": "code",
   "execution_count": 41,
   "id": "7e55cbb2",
   "metadata": {},
   "outputs": [],
   "source": [
    "import os.path\n",
    "from skimage.io import imread\n",
    "img = imread('computer.jpg')"
   ]
  },
  {
   "cell_type": "code",
   "execution_count": 43,
   "id": "0bf5b05b",
   "metadata": {},
   "outputs": [
    {
     "data": {
      "text/plain": [
       "array([[[227, 221, 209],\n",
       "        [225, 219, 207],\n",
       "        [224, 218, 206],\n",
       "        ...,\n",
       "        [225, 219, 207],\n",
       "        [224, 218, 206],\n",
       "        [223, 217, 205]],\n",
       "\n",
       "       [[228, 222, 210],\n",
       "        [226, 220, 208],\n",
       "        [226, 220, 208],\n",
       "        ...,\n",
       "        [224, 218, 206],\n",
       "        [223, 217, 205],\n",
       "        [222, 216, 204]],\n",
       "\n",
       "       [[228, 222, 210],\n",
       "        [227, 221, 209],\n",
       "        [226, 220, 208],\n",
       "        ...,\n",
       "        [225, 219, 207],\n",
       "        [224, 218, 206],\n",
       "        [223, 217, 205]],\n",
       "\n",
       "       ...,\n",
       "\n",
       "       [[186, 176, 151],\n",
       "        [186, 176, 151],\n",
       "        [185, 175, 150],\n",
       "        ...,\n",
       "        [159, 182, 126],\n",
       "        [159, 182, 126],\n",
       "        [159, 182, 128]],\n",
       "\n",
       "       [[187, 177, 152],\n",
       "        [187, 177, 152],\n",
       "        [185, 175, 150],\n",
       "        ...,\n",
       "        [159, 182, 126],\n",
       "        [159, 182, 126],\n",
       "        [160, 183, 127]],\n",
       "\n",
       "       [[188, 178, 153],\n",
       "        [187, 177, 152],\n",
       "        [186, 176, 151],\n",
       "        ...,\n",
       "        [158, 181, 125],\n",
       "        [158, 181, 125],\n",
       "        [158, 181, 125]]], dtype=uint8)"
      ]
     },
     "execution_count": 43,
     "metadata": {},
     "output_type": "execute_result"
    }
   ],
   "source": [
    "img"
   ]
  },
  {
   "cell_type": "code",
   "execution_count": 44,
   "id": "e3572770",
   "metadata": {},
   "outputs": [
    {
     "data": {
      "text/plain": [
       "<matplotlib.image.AxesImage at 0x245e71ac850>"
      ]
     },
     "execution_count": 44,
     "metadata": {},
     "output_type": "execute_result"
    },
    {
     "data": {
      "image/png": "[encoded data removed]",
      "text/plain": [
       "<Figure size 432x288 with 1 Axes>"
      ]
     },
     "metadata": {
      "needs_background": "light"
     },
     "output_type": "display_data"
    }
   ],
   "source": [
    "import matplotlib.pyplot as plt\n",
    "plt.imshow(img)"
   ]
  },
  {
   "cell_type": "code",
   "execution_count": 45,
   "id": "ce41bbf2",
   "metadata": {},
   "outputs": [
    {
     "name": "stdout",
     "output_type": "stream",
     "text": [
      "Type of image:  <class 'numpy.ndarray'>\n",
      "Dimensions of image:  3\n",
      "Shape of image: (345, 460, 3)\n"
     ]
    }
   ],
   "source": [
    "print('Type of image: ', type(img))\n",
    "print('Dimensions of image: ', img.ndim)\n",
    "print('Shape of image:', img.shape)"
   ]
  },
  {
   "cell_type": "code",
   "execution_count": 47,
   "id": "2ccc2d51",
   "metadata": {},
   "outputs": [
    {
     "data": {
      "text/plain": [
       "<matplotlib.image.AxesImage at 0x245e72ce700>"
      ]
     },
     "execution_count": 47,
     "metadata": {},
     "output_type": "execute_result"
    },
    {
     "data": {
      "image/png": "[encoded data removed]",
      "text/plain": [
       "<Figure size 432x288 with 1 Axes>"
      ]
     },
     "metadata": {
      "needs_background": "light"
     },
     "output_type": "display_data"
    }
   ],
   "source": [
    "slice_img = img.copy()\n",
    "s = slice_img[60:250, 310:410]\n",
    "plt.imshow(s)"
   ]
  },
  {
   "cell_type": "code",
   "execution_count": 48,
   "id": "c07976b5",
   "metadata": {},
   "outputs": [
    {
     "data": {
      "text/plain": [
       "<matplotlib.image.AxesImage at 0x245e7332910>"
      ]
     },
     "execution_count": 48,
     "metadata": {},
     "output_type": "execute_result"
    },
    {
     "data": {
      "image/png": "[encoded data removed]",
      "text/plain": [
       "<Figure size 432x288 with 1 Axes>"
      ]
     },
     "metadata": {
      "needs_background": "light"
     },
     "output_type": "display_data"
    }
   ],
   "source": [
    "img[60:250, 310:410, :]= 0\n",
    "plt.imshow(img)"
   ]
  },
  {
   "cell_type": "code",
   "execution_count": 49,
   "id": "06ca98bd",
   "metadata": {},
   "outputs": [
    {
     "data": {
      "text/plain": [
       "<matplotlib.image.AxesImage at 0x245e8364940>"
      ]
     },
     "execution_count": 49,
     "metadata": {},
     "output_type": "execute_result"
    },
    {
     "data": {
      "image/png": "[encoded data removed]",
      "text/plain": [
       "<Figure size 432x288 with 1 Axes>"
      ]
     },
     "metadata": {
      "needs_background": "light"
     },
     "output_type": "display_data"
    }
   ],
   "source": [
    "img[60:250, 310:410, :] = s\n",
    "plt.imshow(img)"
   ]
  },
  {
   "cell_type": "markdown",
   "id": "2a7ed51d",
   "metadata": {},
   "source": [
    "##### Other ways to create numpy arrays"
   ]
  },
  {
   "cell_type": "markdown",
   "id": "30a856b9",
   "metadata": {},
   "source": [
    "arange"
   ]
  },
  {
   "cell_type": "code",
   "execution_count": 50,
   "id": "4cd6a25a",
   "metadata": {},
   "outputs": [
    {
     "data": {
      "text/plain": [
       "array([0, 1, 2, 3, 4, 5, 6, 7, 8, 9])"
      ]
     },
     "execution_count": 50,
     "metadata": {},
     "output_type": "execute_result"
    }
   ],
   "source": [
    "np.arange(0,10)"
   ]
  },
  {
   "cell_type": "code",
   "execution_count": 51,
   "id": "9b119f8c",
   "metadata": {},
   "outputs": [
    {
     "data": {
      "text/plain": [
       "array([0, 2, 4, 6, 8])"
      ]
     },
     "execution_count": 51,
     "metadata": {},
     "output_type": "execute_result"
    }
   ],
   "source": [
    "np.arange(0,10,2)"
   ]
  },
  {
   "cell_type": "markdown",
   "id": "e3843ac1",
   "metadata": {},
   "source": [
    "linspace"
   ]
  },
  {
   "cell_type": "code",
   "execution_count": 54,
   "id": "1cc35d29",
   "metadata": {},
   "outputs": [
    {
     "name": "stdout",
     "output_type": "stream",
     "text": [
      "[ 0.          0.20408163  0.40816327  0.6122449   0.81632653  1.02040816\n",
      "  1.2244898   1.42857143  1.63265306  1.83673469  2.04081633  2.24489796\n",
      "  2.44897959  2.65306122  2.85714286  3.06122449  3.26530612  3.46938776\n",
      "  3.67346939  3.87755102  4.08163265  4.28571429  4.48979592  4.69387755\n",
      "  4.89795918  5.10204082  5.30612245  5.51020408  5.71428571  5.91836735\n",
      "  6.12244898  6.32653061  6.53061224  6.73469388  6.93877551  7.14285714\n",
      "  7.34693878  7.55102041  7.75510204  7.95918367  8.16326531  8.36734694\n",
      "  8.57142857  8.7755102   8.97959184  9.18367347  9.3877551   9.59183673\n",
      "  9.79591837 10.        ]\n"
     ]
    },
    {
     "data": {
      "text/plain": [
       "50"
      ]
     },
     "execution_count": 54,
     "metadata": {},
     "output_type": "execute_result"
    }
   ],
   "source": [
    "a = np.linspace(0,10)\n",
    "print(a)\n",
    "len(a)"
   ]
  },
  {
   "cell_type": "code",
   "execution_count": 55,
   "id": "2fbe8747",
   "metadata": {},
   "outputs": [
    {
     "data": {
      "text/plain": [
       "array([ 0.,  5., 10.])"
      ]
     },
     "execution_count": 55,
     "metadata": {},
     "output_type": "execute_result"
    }
   ],
   "source": [
    "np.linspace(0,10,3)"
   ]
  },
  {
   "cell_type": "code",
   "execution_count": null,
   "id": "7769a370",
   "metadata": {},
   "outputs": [],
   "source": []
  },
  {
   "cell_type": "code",
   "execution_count": 56,
   "id": "1dc4c2d6",
   "metadata": {},
   "outputs": [
    {
     "data": {
      "text/plain": [
       "array([0., 0., 0., 0., 0.])"
      ]
     },
     "execution_count": 56,
     "metadata": {},
     "output_type": "execute_result"
    }
   ],
   "source": [
    "np.zeros(5)"
   ]
  },
  {
   "cell_type": "code",
   "execution_count": 57,
   "id": "c6259be7",
   "metadata": {},
   "outputs": [
    {
     "data": {
      "text/plain": [
       "array([[0., 0., 0., 0., 0.],\n",
       "       [0., 0., 0., 0., 0.]])"
      ]
     },
     "execution_count": 57,
     "metadata": {},
     "output_type": "execute_result"
    }
   ],
   "source": [
    "np.zeros([2,5])"
   ]
  },
  {
   "cell_type": "code",
   "execution_count": 66,
   "id": "ae65f294",
   "metadata": {},
   "outputs": [
    {
     "data": {
      "text/plain": [
       "array([1., 1., 1., 1., 1.])"
      ]
     },
     "execution_count": 66,
     "metadata": {},
     "output_type": "execute_result"
    }
   ],
   "source": [
    "np.ones(5)"
   ]
  },
  {
   "cell_type": "code",
   "execution_count": 67,
   "id": "494b12b1",
   "metadata": {},
   "outputs": [
    {
     "data": {
      "text/plain": [
       "array([1., 1., 1.])"
      ]
     },
     "execution_count": 67,
     "metadata": {},
     "output_type": "execute_result"
    }
   ],
   "source": [
    "np.ones([3])"
   ]
  },
  {
   "cell_type": "code",
   "execution_count": 69,
   "id": "9e7e1599",
   "metadata": {},
   "outputs": [
    {
     "data": {
      "text/plain": [
       "array([[1., 1.],\n",
       "       [1., 1.]])"
      ]
     },
     "execution_count": 69,
     "metadata": {},
     "output_type": "execute_result"
    }
   ],
   "source": [
    "np.ones([2,2])"
   ]
  },
  {
   "cell_type": "code",
   "execution_count": 71,
   "id": "6fd44f27",
   "metadata": {},
   "outputs": [
    {
     "data": {
      "text/plain": [
       "array([1, 1, 1, 1, 1])"
      ]
     },
     "execution_count": 71,
     "metadata": {},
     "output_type": "execute_result"
    }
   ],
   "source": [
    "np.full(5,1)"
   ]
  },
  {
   "cell_type": "code",
   "execution_count": 74,
   "id": "5c09ce15",
   "metadata": {},
   "outputs": [
    {
     "data": {
      "text/plain": [
       "array([['npy', 'npy'],\n",
       "       ['npy', 'npy'],\n",
       "       ['npy', 'npy']], dtype='<U3')"
      ]
     },
     "execution_count": 74,
     "metadata": {},
     "output_type": "execute_result"
    }
   ],
   "source": [
    "np.full([3,2], 'npy')"
   ]
  },
  {
   "cell_type": "code",
   "execution_count": 75,
   "id": "8f434ef1",
   "metadata": {},
   "outputs": [
    {
     "data": {
      "text/plain": [
       "array([[1., 0., 0.],\n",
       "       [0., 1., 0.],\n",
       "       [0., 0., 1.]])"
      ]
     },
     "execution_count": 75,
     "metadata": {},
     "output_type": "execute_result"
    }
   ],
   "source": [
    "np.eye(3)"
   ]
  },
  {
   "cell_type": "code",
   "execution_count": null,
   "id": "a4326217",
   "metadata": {},
   "outputs": [],
   "source": []
  },
  {
   "cell_type": "markdown",
   "id": "3fa6c1ca",
   "metadata": {},
   "source": [
    "#### Numpy Random numbers"
   ]
  },
  {
   "cell_type": "code",
   "execution_count": 76,
   "id": "4d70bfef",
   "metadata": {},
   "outputs": [],
   "source": [
    "from numpy import random"
   ]
  },
  {
   "cell_type": "code",
   "execution_count": 79,
   "id": "e65b7eee",
   "metadata": {},
   "outputs": [
    {
     "data": {
      "text/plain": [
       "0.4231683254062367"
      ]
     },
     "execution_count": 79,
     "metadata": {},
     "output_type": "execute_result"
    }
   ],
   "source": [
    "random.rand()"
   ]
  },
  {
   "cell_type": "code",
   "execution_count": 80,
   "id": "bc568436",
   "metadata": {},
   "outputs": [
    {
     "data": {
      "text/plain": [
       "array([0.8929429 , 0.36618892, 0.5310993 , 0.37787074, 0.74584796])"
      ]
     },
     "execution_count": 80,
     "metadata": {},
     "output_type": "execute_result"
    }
   ],
   "source": [
    "random.rand(5)"
   ]
  },
  {
   "cell_type": "code",
   "execution_count": 84,
   "id": "d047e467",
   "metadata": {},
   "outputs": [
    {
     "data": {
      "text/plain": [
       "5"
      ]
     },
     "execution_count": 84,
     "metadata": {},
     "output_type": "execute_result"
    }
   ],
   "source": [
    "random.randint(10)"
   ]
  },
  {
   "cell_type": "markdown",
   "id": "8e4688f9",
   "metadata": {},
   "source": [
    "random array"
   ]
  },
  {
   "cell_type": "code",
   "execution_count": 87,
   "id": "bbd6b55b",
   "metadata": {},
   "outputs": [
    {
     "data": {
      "text/plain": [
       "array([[0, 3],\n",
       "       [2, 2],\n",
       "       [3, 4],\n",
       "       [1, 4],\n",
       "       [4, 4]])"
      ]
     },
     "execution_count": 87,
     "metadata": {},
     "output_type": "execute_result"
    }
   ],
   "source": [
    "random.randint(5, size=(5,2))"
   ]
  },
  {
   "cell_type": "code",
   "execution_count": 88,
   "id": "98d8fe5e",
   "metadata": {},
   "outputs": [
    {
     "data": {
      "text/plain": [
       "15"
      ]
     },
     "execution_count": 88,
     "metadata": {},
     "output_type": "execute_result"
    }
   ],
   "source": [
    "random.choice([11,12,13,14,15])"
   ]
  },
  {
   "cell_type": "code",
   "execution_count": 89,
   "id": "984fbfae",
   "metadata": {},
   "outputs": [
    {
     "data": {
      "text/plain": [
       "array([[14, 15],\n",
       "       [14, 12]])"
      ]
     },
     "execution_count": 89,
     "metadata": {},
     "output_type": "execute_result"
    }
   ],
   "source": [
    "random.choice([11,12,13,14,15], size=(2,2))"
   ]
  },
  {
   "cell_type": "markdown",
   "id": "4db1b118",
   "metadata": {},
   "source": [
    "Shuffling elements of array"
   ]
  },
  {
   "cell_type": "code",
   "execution_count": 91,
   "id": "4e752ce9",
   "metadata": {},
   "outputs": [
    {
     "data": {
      "text/plain": [
       "array([2, 3, 5, 4, 1])"
      ]
     },
     "execution_count": 91,
     "metadata": {},
     "output_type": "execute_result"
    }
   ],
   "source": [
    "a = np.array([1,2,3,4,5])\n",
    "random.shuffle(a)\n",
    "a"
   ]
  },
  {
   "cell_type": "code",
   "execution_count": 93,
   "id": "e87f4394",
   "metadata": {},
   "outputs": [
    {
     "name": "stdout",
     "output_type": "stream",
     "text": [
      "[1 2 3 4 5]\n",
      "[3 2 5 1 4]\n"
     ]
    }
   ],
   "source": [
    "a = np.array([1,2,3,4,5])\n",
    "b = random.permutation(a)\n",
    "print(a)\n",
    "print(b)"
   ]
  },
  {
   "cell_type": "markdown",
   "id": "9b8d6a48",
   "metadata": {},
   "source": [
    "#### NumPy Universal Functions"
   ]
  },
  {
   "cell_type": "markdown",
   "id": "b9d76a1a",
   "metadata": {},
   "source": [
    "UFuncs in numpy are used to implement vectorization, the technique which is faster than iterating over elements to do operations"
   ]
  },
  {
   "cell_type": "markdown",
   "id": "4967963b",
   "metadata": {},
   "source": [
    "adding the elements of list"
   ]
  },
  {
   "cell_type": "code",
   "execution_count": 3,
   "id": "a079eebd",
   "metadata": {},
   "outputs": [
    {
     "data": {
      "text/plain": [
       "array([ 4,  6,  8, 10, 12, 14, 16])"
      ]
     },
     "execution_count": 3,
     "metadata": {},
     "output_type": "execute_result"
    }
   ],
   "source": [
    "a = [1,2,3,4,5,6,7]\n",
    "b = [3,4,5,6,7,8,9]\n",
    "c = np.add(a,b)\n",
    "c"
   ]
  },
  {
   "cell_type": "markdown",
   "id": "a236f97b",
   "metadata": {},
   "source": [
    "subtraction"
   ]
  },
  {
   "cell_type": "code",
   "execution_count": 4,
   "id": "6544bb88",
   "metadata": {},
   "outputs": [
    {
     "data": {
      "text/plain": [
       "array([2, 2, 2, 2, 2, 2, 2])"
      ]
     },
     "execution_count": 4,
     "metadata": {},
     "output_type": "execute_result"
    }
   ],
   "source": [
    "a = [1,2,3,4,5,6,7]\n",
    "b = [3,4,5,6,7,8,9]\n",
    "c = np.subtract(b, a)\n",
    "c"
   ]
  },
  {
   "cell_type": "markdown",
   "id": "481b0ba9",
   "metadata": {},
   "source": [
    "Multiplication"
   ]
  },
  {
   "cell_type": "code",
   "execution_count": 6,
   "id": "2345cdcc",
   "metadata": {},
   "outputs": [
    {
     "data": {
      "text/plain": [
       "array([ 3,  8, 15, 24, 35, 48, 63])"
      ]
     },
     "execution_count": 6,
     "metadata": {},
     "output_type": "execute_result"
    }
   ],
   "source": [
    "a = [1,2,3,4,5,6,7]\n",
    "b = [3,4,5,6,7,8,9]\n",
    "c = np.multiply(a,b)\n",
    "c"
   ]
  },
  {
   "cell_type": "markdown",
   "id": "cd43f902",
   "metadata": {},
   "source": [
    "Division"
   ]
  },
  {
   "cell_type": "code",
   "execution_count": 8,
   "id": "31f59d1d",
   "metadata": {},
   "outputs": [
    {
     "data": {
      "text/plain": [
       "array([ 5.,  7., 10.,  1.,  3.])"
      ]
     },
     "execution_count": 8,
     "metadata": {},
     "output_type": "execute_result"
    }
   ],
   "source": [
    "a = [10,21,30,4,15]\n",
    "b = [2,3,3,4,5]\n",
    "c = np.divide(a,b)\n",
    "c"
   ]
  },
  {
   "cell_type": "markdown",
   "id": "56311950",
   "metadata": {},
   "source": [
    "Power"
   ]
  },
  {
   "cell_type": "code",
   "execution_count": 12,
   "id": "83a72bbc",
   "metadata": {},
   "outputs": [
    {
     "data": {
      "text/plain": [
       "array([  1,   8,  27,  64, 125], dtype=int32)"
      ]
     },
     "execution_count": 12,
     "metadata": {},
     "output_type": "execute_result"
    }
   ],
   "source": [
    "a = [1,2,3,4,5]\n",
    "b = [3]\n",
    "c = np.power(a,b)\n",
    "c"
   ]
  },
  {
   "cell_type": "markdown",
   "id": "938ac7c4",
   "metadata": {},
   "source": [
    "mod or remainder"
   ]
  },
  {
   "cell_type": "code",
   "execution_count": 14,
   "id": "463391b4",
   "metadata": {},
   "outputs": [
    {
     "data": {
      "text/plain": [
       "array([0, 0, 2, 2, 2, 2, 2], dtype=int32)"
      ]
     },
     "execution_count": 14,
     "metadata": {},
     "output_type": "execute_result"
    }
   ],
   "source": [
    "a = [1,2,3,4,5,6,7]\n",
    "b = [3,4,5,6,7,8,9]\n",
    "c = np.mod(b,a)\n",
    "c"
   ]
  },
  {
   "cell_type": "markdown",
   "id": "8ee5b18b",
   "metadata": {},
   "source": [
    "absolute values"
   ]
  },
  {
   "cell_type": "code",
   "execution_count": 15,
   "id": "22e1c80d",
   "metadata": {},
   "outputs": [
    {
     "data": {
      "text/plain": [
       "array([1, 2, 3])"
      ]
     },
     "execution_count": 15,
     "metadata": {},
     "output_type": "execute_result"
    }
   ],
   "source": [
    "a = np.array([-1,-2,-3])\n",
    "b = np.absolute(a)\n",
    "b"
   ]
  },
  {
   "cell_type": "markdown",
   "id": "77b96337",
   "metadata": {},
   "source": [
    "Truncation"
   ]
  },
  {
   "cell_type": "code",
   "execution_count": 16,
   "id": "78a43625",
   "metadata": {},
   "outputs": [
    {
     "data": {
      "text/plain": [
       "array([ 13., 321.])"
      ]
     },
     "execution_count": 16,
     "metadata": {},
     "output_type": "execute_result"
    }
   ],
   "source": [
    "   np.trunc([13.432, 321.3453])"
   ]
  },
  {
   "cell_type": "markdown",
   "id": "2644dc04",
   "metadata": {},
   "source": [
    "Rounding off"
   ]
  },
  {
   "cell_type": "code",
   "execution_count": 17,
   "id": "94f568ce",
   "metadata": {},
   "outputs": [
    {
     "data": {
      "text/plain": [
       "32.2"
      ]
     },
     "execution_count": 17,
     "metadata": {},
     "output_type": "execute_result"
    }
   ],
   "source": [
    "np.around(32.153,1)"
   ]
  },
  {
   "cell_type": "markdown",
   "id": "b419a0de",
   "metadata": {},
   "source": [
    "Floor"
   ]
  },
  {
   "cell_type": "code",
   "execution_count": 22,
   "id": "eab91198",
   "metadata": {},
   "outputs": [
    {
     "data": {
      "text/plain": [
       "12.0"
      ]
     },
     "execution_count": 22,
     "metadata": {},
     "output_type": "execute_result"
    }
   ],
   "source": [
    "np.floor(12.6201)"
   ]
  },
  {
   "cell_type": "code",
   "execution_count": 23,
   "id": "005fcba4",
   "metadata": {},
   "outputs": [
    {
     "data": {
      "text/plain": [
       "13.0"
      ]
     },
     "execution_count": 23,
     "metadata": {},
     "output_type": "execute_result"
    }
   ],
   "source": [
    "np.ceil(12.6201)"
   ]
  },
  {
   "cell_type": "markdown",
   "id": "4a6136bd",
   "metadata": {},
   "source": [
    "Logarithmic functions"
   ]
  },
  {
   "cell_type": "code",
   "execution_count": 27,
   "id": "4cfff26f",
   "metadata": {},
   "outputs": [
    {
     "name": "stdout",
     "output_type": "stream",
     "text": [
      "[0.         1.         1.5849625  2.         2.32192809 2.5849625\n",
      " 2.80735492 3.         3.169925  ]\n"
     ]
    }
   ],
   "source": [
    "a = np.arange(1,10)\n",
    "print(np.log2(a))"
   ]
  },
  {
   "cell_type": "code",
   "execution_count": 28,
   "id": "e054b7d7",
   "metadata": {},
   "outputs": [
    {
     "name": "stdout",
     "output_type": "stream",
     "text": [
      "[0.         0.30103    0.47712125 0.60205999 0.69897    0.77815125\n",
      " 0.84509804 0.90308999 0.95424251]\n"
     ]
    }
   ],
   "source": [
    "a = np.arange(1,10)\n",
    "print(np.log10(a))"
   ]
  },
  {
   "cell_type": "code",
   "execution_count": 29,
   "id": "f828b42f",
   "metadata": {},
   "outputs": [
    {
     "name": "stdout",
     "output_type": "stream",
     "text": [
      "[0.         0.69314718 1.09861229 1.38629436 1.60943791 1.79175947\n",
      " 1.94591015 2.07944154 2.19722458]\n"
     ]
    }
   ],
   "source": [
    "a = np.arange(1,10)\n",
    "print(np.log(a))"
   ]
  },
  {
   "cell_type": "markdown",
   "id": "b0f88566",
   "metadata": {},
   "source": [
    "Summations"
   ]
  },
  {
   "cell_type": "code",
   "execution_count": 30,
   "id": "2b17e419",
   "metadata": {},
   "outputs": [
    {
     "data": {
      "text/plain": [
       "15"
      ]
     },
     "execution_count": 30,
     "metadata": {},
     "output_type": "execute_result"
    }
   ],
   "source": [
    "a = np.array([1,2,3,4,5])\n",
    "np.sum(a)"
   ]
  },
  {
   "cell_type": "code",
   "execution_count": 32,
   "id": "efaa0426",
   "metadata": {},
   "outputs": [
    {
     "data": {
      "text/plain": [
       "30"
      ]
     },
     "execution_count": 32,
     "metadata": {},
     "output_type": "execute_result"
    }
   ],
   "source": [
    "a = np.array([1,2,3,4,5])\n",
    "b = np.array([1,2,3,4,5])\n",
    "np.sum([a,b])"
   ]
  },
  {
   "cell_type": "code",
   "execution_count": 35,
   "id": "621ea208",
   "metadata": {},
   "outputs": [
    {
     "data": {
      "text/plain": [
       "array([15, 15])"
      ]
     },
     "execution_count": 35,
     "metadata": {},
     "output_type": "execute_result"
    }
   ],
   "source": [
    "a = np.array([1,2,3,4,5])\n",
    "b = np.array([1,2,3,4,5])\n",
    "np.sum([a,b], axis = 1)"
   ]
  },
  {
   "cell_type": "code",
   "execution_count": 36,
   "id": "6b92f0e3",
   "metadata": {},
   "outputs": [
    {
     "data": {
      "text/plain": [
       "array([ 2,  4,  6,  8, 10])"
      ]
     },
     "execution_count": 36,
     "metadata": {},
     "output_type": "execute_result"
    }
   ],
   "source": [
    "a = np.array([1,2,3,4,5])\n",
    "b = np.array([1,2,3,4,5])\n",
    "np.sum([a,b], axis = 0)"
   ]
  },
  {
   "cell_type": "code",
   "execution_count": 37,
   "id": "9fa01480",
   "metadata": {},
   "outputs": [
    {
     "data": {
      "text/plain": [
       "array([ 1,  3,  6, 10, 15], dtype=int32)"
      ]
     },
     "execution_count": 37,
     "metadata": {},
     "output_type": "execute_result"
    }
   ],
   "source": [
    "a = np.array([1,2,3,4,5])\n",
    "np.cumsum(a)"
   ]
  },
  {
   "cell_type": "markdown",
   "id": "2135c3ea",
   "metadata": {},
   "source": [
    "Numpy Products"
   ]
  },
  {
   "cell_type": "code",
   "execution_count": 38,
   "id": "681430bf",
   "metadata": {},
   "outputs": [
    {
     "data": {
      "text/plain": [
       "120"
      ]
     },
     "execution_count": 38,
     "metadata": {},
     "output_type": "execute_result"
    }
   ],
   "source": [
    "a = np.array([1,2,3,4,5])\n",
    "np.prod(a)"
   ]
  },
  {
   "cell_type": "code",
   "execution_count": 39,
   "id": "adc71dc7",
   "metadata": {},
   "outputs": [
    {
     "data": {
      "text/plain": [
       "14400"
      ]
     },
     "execution_count": 39,
     "metadata": {},
     "output_type": "execute_result"
    }
   ],
   "source": [
    "a = np.array([1,2,3,4,5])\n",
    "b = np.array([1,2,3,4,5])\n",
    "np.prod([a,b])"
   ]
  },
  {
   "cell_type": "code",
   "execution_count": 40,
   "id": "0cf8d0c6",
   "metadata": {},
   "outputs": [
    {
     "data": {
      "text/plain": [
       "array([120, 120])"
      ]
     },
     "execution_count": 40,
     "metadata": {},
     "output_type": "execute_result"
    }
   ],
   "source": [
    "a = np.array([1,2,3,4,5])\n",
    "b = np.array([1,2,3,4,5])\n",
    "np.prod([a,b], axis = 1)"
   ]
  },
  {
   "cell_type": "code",
   "execution_count": 42,
   "id": "1374fa59",
   "metadata": {},
   "outputs": [
    {
     "data": {
      "text/plain": [
       "array([ 1,  4,  9, 16, 25])"
      ]
     },
     "execution_count": 42,
     "metadata": {},
     "output_type": "execute_result"
    }
   ],
   "source": [
    "a = np.array([1,2,3,4,5])\n",
    "b = np.array([1,2,3,4,5])\n",
    "np.prod([a,b], axis = 0)"
   ]
  },
  {
   "cell_type": "code",
   "execution_count": 43,
   "id": "e7f2189e",
   "metadata": {},
   "outputs": [
    {
     "data": {
      "text/plain": [
       "array([  1,   2,   6,  24, 120], dtype=int32)"
      ]
     },
     "execution_count": 43,
     "metadata": {},
     "output_type": "execute_result"
    }
   ],
   "source": [
    "a = np.array([1,2,3,4,5])\n",
    "np.cumproduct(a)"
   ]
  },
  {
   "cell_type": "markdown",
   "id": "f95c222e",
   "metadata": {},
   "source": [
    "Discrete Difference"
   ]
  },
  {
   "cell_type": "code",
   "execution_count": 44,
   "id": "dbefe8c7",
   "metadata": {},
   "outputs": [
    {
     "data": {
      "text/plain": [
       "array([1, 1, 1, 1])"
      ]
     },
     "execution_count": 44,
     "metadata": {},
     "output_type": "execute_result"
    }
   ],
   "source": [
    "a = np.array([1,2,3,4,5])\n",
    "np.diff(a)"
   ]
  },
  {
   "cell_type": "code",
   "execution_count": 45,
   "id": "63facac3",
   "metadata": {},
   "outputs": [
    {
     "data": {
      "text/plain": [
       "array([0, 0, 0])"
      ]
     },
     "execution_count": 45,
     "metadata": {},
     "output_type": "execute_result"
    }
   ],
   "source": [
    "a = np.array([1,2,3,4,5])\n",
    "np.diff(a, n=2)"
   ]
  },
  {
   "cell_type": "code",
   "execution_count": 46,
   "id": "d33d1ce4",
   "metadata": {},
   "outputs": [
    {
     "data": {
      "text/plain": [
       "array([-1,  0])"
      ]
     },
     "execution_count": 46,
     "metadata": {},
     "output_type": "execute_result"
    }
   ],
   "source": [
    "a = np.array([10,14,17,20])\n",
    "np.diff(a, n=2)"
   ]
  },
  {
   "cell_type": "markdown",
   "id": "9d315d2f",
   "metadata": {},
   "source": [
    "LCM"
   ]
  },
  {
   "cell_type": "code",
   "execution_count": 52,
   "id": "d026da3a",
   "metadata": {},
   "outputs": [
    {
     "data": {
      "text/plain": [
       "6"
      ]
     },
     "execution_count": 52,
     "metadata": {},
     "output_type": "execute_result"
    }
   ],
   "source": [
    "np.lcm(6,3)"
   ]
  },
  {
   "cell_type": "code",
   "execution_count": 53,
   "id": "9bf7b62b",
   "metadata": {},
   "outputs": [
    {
     "data": {
      "text/plain": [
       "12"
      ]
     },
     "execution_count": 53,
     "metadata": {},
     "output_type": "execute_result"
    }
   ],
   "source": [
    "np.lcm.reduce([6,3,4])"
   ]
  },
  {
   "cell_type": "markdown",
   "id": "727015ba",
   "metadata": {},
   "source": [
    "GCD"
   ]
  },
  {
   "cell_type": "code",
   "execution_count": 54,
   "id": "dc2e279a",
   "metadata": {},
   "outputs": [
    {
     "data": {
      "text/plain": [
       "3"
      ]
     },
     "execution_count": 54,
     "metadata": {},
     "output_type": "execute_result"
    }
   ],
   "source": [
    "np.gcd(6,3)"
   ]
  },
  {
   "cell_type": "code",
   "execution_count": 57,
   "id": "7b166416",
   "metadata": {},
   "outputs": [
    {
     "data": {
      "text/plain": [
       "3"
      ]
     },
     "execution_count": 57,
     "metadata": {},
     "output_type": "execute_result"
    }
   ],
   "source": [
    "np.gcd.reduce([6,3,12])"
   ]
  },
  {
   "cell_type": "markdown",
   "id": "b058c4ed",
   "metadata": {},
   "source": [
    "Trignometric function"
   ]
  },
  {
   "cell_type": "code",
   "execution_count": 59,
   "id": "4540f363",
   "metadata": {},
   "outputs": [
    {
     "data": {
      "text/plain": [
       "1.0"
      ]
     },
     "execution_count": 59,
     "metadata": {},
     "output_type": "execute_result"
    }
   ],
   "source": [
    "np.sin(np.pi/2)"
   ]
  },
  {
   "cell_type": "code",
   "execution_count": 60,
   "id": "e71d4806",
   "metadata": {},
   "outputs": [
    {
     "data": {
      "text/plain": [
       "1.5707963267948966"
      ]
     },
     "execution_count": 60,
     "metadata": {},
     "output_type": "execute_result"
    }
   ],
   "source": [
    "np.deg2rad(90)"
   ]
  },
  {
   "cell_type": "code",
   "execution_count": 62,
   "id": "5f1890c5",
   "metadata": {},
   "outputs": [
    {
     "data": {
      "text/plain": [
       "1.0"
      ]
     },
     "execution_count": 62,
     "metadata": {},
     "output_type": "execute_result"
    }
   ],
   "source": [
    "np.sin(1.5707963267948966)"
   ]
  },
  {
   "cell_type": "code",
   "execution_count": 63,
   "id": "78665816",
   "metadata": {},
   "outputs": [
    {
     "data": {
      "text/plain": [
       "90.0"
      ]
     },
     "execution_count": 63,
     "metadata": {},
     "output_type": "execute_result"
    }
   ],
   "source": [
    "np.rad2deg(1.5707963267948966)"
   ]
  },
  {
   "cell_type": "code",
   "execution_count": 64,
   "id": "d88d09d7",
   "metadata": {},
   "outputs": [
    {
     "data": {
      "text/plain": [
       "1.5707963267948966"
      ]
     },
     "execution_count": 64,
     "metadata": {},
     "output_type": "execute_result"
    }
   ],
   "source": [
    "np.arcsin(1)"
   ]
  },
  {
   "cell_type": "code",
   "execution_count": 65,
   "id": "1e656610",
   "metadata": {},
   "outputs": [
    {
     "data": {
      "text/plain": [
       "2.3012989023072947"
      ]
     },
     "execution_count": 65,
     "metadata": {},
     "output_type": "execute_result"
    }
   ],
   "source": [
    "np.sinh(np.pi/2)"
   ]
  },
  {
   "cell_type": "markdown",
   "id": "e35f736a",
   "metadata": {},
   "source": [
    "Set Operations"
   ]
  },
  {
   "cell_type": "code",
   "execution_count": 67,
   "id": "c556d339",
   "metadata": {},
   "outputs": [
    {
     "data": {
      "text/plain": [
       "array([ 1,  2,  4,  5,  6,  8, 23, 67])"
      ]
     },
     "execution_count": 67,
     "metadata": {},
     "output_type": "execute_result"
    }
   ],
   "source": [
    "np.unique([1,1,1,1,2,2,23,4,4,2,2,6,6,67,8,6,5])"
   ]
  },
  {
   "cell_type": "code",
   "execution_count": 68,
   "id": "92c3ce27",
   "metadata": {},
   "outputs": [
    {
     "data": {
      "text/plain": [
       "array([0, 1, 2, 3, 4, 5, 7])"
      ]
     },
     "execution_count": 68,
     "metadata": {},
     "output_type": "execute_result"
    }
   ],
   "source": [
    "a = np.array([1,3,5,2])\n",
    "b = np.array([3,2,4,7,0])\n",
    "np.union1d(a,b)"
   ]
  },
  {
   "cell_type": "code",
   "execution_count": 70,
   "id": "44a2fb3a",
   "metadata": {},
   "outputs": [
    {
     "data": {
      "text/plain": [
       "array([2, 3])"
      ]
     },
     "execution_count": 70,
     "metadata": {},
     "output_type": "execute_result"
    }
   ],
   "source": [
    "a = np.array([1,3,5,2])\n",
    "b = np.array([3,2,4,7,0])\n",
    "np.intersect1d(a,b)"
   ]
  },
  {
   "cell_type": "code",
   "execution_count": 71,
   "id": "6d9b6711",
   "metadata": {},
   "outputs": [
    {
     "data": {
      "text/plain": [
       "array([1, 5])"
      ]
     },
     "execution_count": 71,
     "metadata": {},
     "output_type": "execute_result"
    }
   ],
   "source": [
    "a = np.array([1,3,5,2])\n",
    "b = np.array([3,2,4,7,0])\n",
    "np.setdiff1d(a,b)"
   ]
  },
  {
   "cell_type": "code",
   "execution_count": 72,
   "id": "aa22fb46",
   "metadata": {},
   "outputs": [
    {
     "data": {
      "text/plain": [
       "array([0, 1, 4, 5, 7])"
      ]
     },
     "execution_count": 72,
     "metadata": {},
     "output_type": "execute_result"
    }
   ],
   "source": [
    "a = np.array([1,3,5,2])\n",
    "b = np.array([3,2,4,7,0])\n",
    "np.setxor1d(a,b)"
   ]
  },
  {
   "cell_type": "code",
   "execution_count": null,
   "id": "5840d7c6",
   "metadata": {},
   "outputs": [],
   "source": []
  }
 ],
 "metadata": {
  "kernelspec": {
   "display_name": "Python 3 (ipykernel)",
   "language": "python",
   "name": "python3"
  },
  "language_info": {
   "codemirror_mode": {
    "name": "ipython",
    "version": 3
   },
   "file_extension": ".py",
   "mimetype": "text/x-python",
   "name": "python",
   "nbconvert_exporter": "python",
   "pygments_lexer": "ipython3",
   "version": "3.9.12"
  }
 },
 "nbformat": 4,
 "nbformat_minor": 5
}
